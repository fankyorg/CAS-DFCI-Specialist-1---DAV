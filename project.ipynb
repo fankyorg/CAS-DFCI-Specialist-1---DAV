{
  "cells": [
    {
      "cell_type": "markdown",
      "metadata": {
        "colab_type": "text",
        "id": "view-in-github"
      },
      "source": [
        "<a href=\"https://github.com/fankyorg/Visualization/blob/main/project.ipynb\" target=\"_parent\"><img src=\"https://colab.research.google.com/assets/colab-badge.svg\" alt=\"Open In Colab\"/></a>"
      ]
    },
    {
      "cell_type": "markdown",
      "metadata": {
        "id": "RLdnjTDw2FZv"
      },
      "source": [
        "# Python for Data Analysis introduction\n",
        "\n",
        "Master of Advanced Studies in Digital Forensics & Cyber Investigation\n",
        "\n",
        "Data Analytics and Visualization for Digital Forensics\n",
        "\n",
        "This course was hold by Hans Henseler, 2023. This notebook is inspired by his notebooks and used as demo for the project"
      ]
    },
    {
      "cell_type": "markdown",
      "metadata": {
        "id": "nP-a0acO_lMw"
      },
      "source": [
        "# Part 1"
      ]
    },
    {
      "cell_type": "markdown",
      "metadata": {
        "id": "x8bNCImD3PLl"
      },
      "source": [
        "## 1 A Note About Python Versions\n",
        "All examples in this cheat sheet use Python 3. We recommend using the latest stable version of Python, for example, Python 3.8. You can check which version you have installed on your machine by running the following command in the system shell:"
      ]
    },
    {
      "cell_type": "code",
      "execution_count": 1,
      "metadata": {
        "colab": {
          "base_uri": "https://localhost:8080/"
        },
        "id": "9qUgB5w-12ev",
        "outputId": "ba6c6872-6257-4404-eb92-cbd487113fb3"
      },
      "outputs": [
        {
          "name": "stdout",
          "output_type": "stream",
          "text": [
            "Python 3.10.12\n"
          ]
        }
      ],
      "source": [
        "!python --version"
      ]
    }
  ],
  "metadata": {
    "colab": {
      "authorship_tag": "ABX9TyN6cDfYRcxStQ49xIMaUnmE",
      "collapsed_sections": [
        "nIfaR31T8Qcb",
        "Lo-AFouA1UIo",
        "z4jt2PbVzqVB",
        "pasaP5RbyExW",
        "LaYmywfvfN8a",
        "2f1EIQk41_cP",
        "66BLClud3Onb",
        "xZspxb6M4JW5"
      ],
      "include_colab_link": true,
      "name": "Part 1 Data Analysis in Python introduction.ipynb",
      "provenance": []
    },
    "kernelspec": {
      "display_name": "Python 3",
      "name": "python3"
    },
    "language_info": {
      "name": "python"
    }
  },
  "nbformat": 4,
  "nbformat_minor": 0
}
